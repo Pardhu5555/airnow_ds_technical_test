{
 "cells": [
  {
   "cell_type": "markdown",
   "id": "e23e0f14",
   "metadata": {},
   "source": [
    "### Importing Essesntial Libraries"
   ]
  },
  {
   "cell_type": "code",
   "execution_count": 72,
   "id": "1a123c00",
   "metadata": {},
   "outputs": [],
   "source": [
    "import pandas as pd\n",
    "import numpy as np\n",
    "import seaborn as sns\n",
    "import matplotlib.pyplot as plt\n",
    "import scipy.stats as stats"
   ]
  },
  {
   "cell_type": "markdown",
   "id": "7fb69ec1",
   "metadata": {},
   "source": [
    "### Data Reading"
   ]
  },
  {
   "cell_type": "code",
   "execution_count": 13,
   "id": "69bc2928",
   "metadata": {},
   "outputs": [
    {
     "name": "stdout",
     "output_type": "stream",
     "text": [
      "Index(['ID', 'Impact Force N'], dtype='object') \n",
      "\n",
      "  ID  Impact Force N\n",
      "0  A           16.12\n",
      "1  A            6.05\n",
      "2  A            3.27\n"
     ]
    }
   ],
   "source": [
    "data = pd.read_csv(\"cricket.csv\",usecols = [\"ID\",\"Impact Force N\"])\n",
    "# printing columns\n",
    "print(data.columns,\"\\n\")\n",
    "# printing top 3 records\n",
    "print(data.head(3))"
   ]
  },
  {
   "cell_type": "markdown",
   "id": "0ba0b891",
   "metadata": {},
   "source": [
    "### Data Analytics - Statistics View"
   ]
  },
  {
   "cell_type": "code",
   "execution_count": 61,
   "id": "e69d1ced",
   "metadata": {},
   "outputs": [
    {
     "data": {
      "text/html": [
       "<div>\n",
       "<style scoped>\n",
       "    .dataframe tbody tr th:only-of-type {\n",
       "        vertical-align: middle;\n",
       "    }\n",
       "\n",
       "    .dataframe tbody tr th {\n",
       "        vertical-align: top;\n",
       "    }\n",
       "\n",
       "    .dataframe thead tr th {\n",
       "        text-align: left;\n",
       "    }\n",
       "</style>\n",
       "<table border=\"1\" class=\"dataframe\">\n",
       "  <thead>\n",
       "    <tr>\n",
       "      <th></th>\n",
       "      <th>ID</th>\n",
       "      <th colspan=\"9\" halign=\"left\">Impact Force N</th>\n",
       "    </tr>\n",
       "    <tr>\n",
       "      <th></th>\n",
       "      <th></th>\n",
       "      <th>count</th>\n",
       "      <th>min</th>\n",
       "      <th>max</th>\n",
       "      <th>mean</th>\n",
       "      <th>median</th>\n",
       "      <th>std</th>\n",
       "      <th>var</th>\n",
       "      <th>sem</th>\n",
       "      <th>skew</th>\n",
       "    </tr>\n",
       "  </thead>\n",
       "  <tbody>\n",
       "    <tr>\n",
       "      <th>0</th>\n",
       "      <td>A</td>\n",
       "      <td>20</td>\n",
       "      <td>2.45</td>\n",
       "      <td>16.12</td>\n",
       "      <td>7.0735</td>\n",
       "      <td>5.730</td>\n",
       "      <td>4.245733</td>\n",
       "      <td>18.026245</td>\n",
       "      <td>0.949375</td>\n",
       "      <td>1.111445</td>\n",
       "    </tr>\n",
       "    <tr>\n",
       "      <th>1</th>\n",
       "      <td>B</td>\n",
       "      <td>20</td>\n",
       "      <td>0.22</td>\n",
       "      <td>8.15</td>\n",
       "      <td>4.1910</td>\n",
       "      <td>4.605</td>\n",
       "      <td>2.348643</td>\n",
       "      <td>5.516125</td>\n",
       "      <td>0.525173</td>\n",
       "      <td>-0.181412</td>\n",
       "    </tr>\n",
       "  </tbody>\n",
       "</table>\n",
       "</div>"
      ],
      "text/plain": [
       "  ID Impact Force N                                                   \\\n",
       "              count   min    max    mean median       std        var   \n",
       "0  A             20  2.45  16.12  7.0735  5.730  4.245733  18.026245   \n",
       "1  B             20  0.22   8.15  4.1910  4.605  2.348643   5.516125   \n",
       "\n",
       "                       \n",
       "        sem      skew  \n",
       "0  0.949375  1.111445  \n",
       "1  0.525173 -0.181412  "
      ]
     },
     "execution_count": 61,
     "metadata": {},
     "output_type": "execute_result"
    }
   ],
   "source": [
    "data.groupby(\"ID\",as_index=False). \\\n",
    "            agg({\"Impact Force N\":[\"count\",\"min\",\"max\",\"mean\",\"median\",\"std\",\"var\",\"sem\",\"skew\"]})"
   ]
  },
  {
   "cell_type": "markdown",
   "id": "82623df3",
   "metadata": {},
   "source": [
    "**<font color='amber'>INSIGHTS</font>**"
   ]
  },
  {
   "cell_type": "markdown",
   "id": "3af1b8e1",
   "metadata": {},
   "source": [
    "* There is a high **VARIANCE** between A & B\n",
    "       \n",
    "       * Data points from B are close each other - Low Spread\n",
    "       * Data point from A are not close to each other - High Spread\n",
    "       * Statistically, there is a clear difference between A & B\n",
    "       \n",
    "* The **MEAN** and **STANDARD DEVIATION** for A & B are different\n",
    "\n",
    "       * Average of A is 7.07 and STD is 4.2. Clearly, there is difference high differenc between avg & std\n",
    "       * Avergae of B is 4.1 and STD 2.3. Standard Deviation is close to mean\n",
    "       * Data Points from B are close to each other and points from A are different from B\n",
    "       \n",
    "* Data points from A showed **skewness** value 1.11 which mean points are not **symmetric**(not normally distributed)\n",
    "* Data points from B showed **skewness** value -0.18 which mean points are **normally distributed norm**\n",
    "* The **standard error** of A(0.94) higher than B(0.52), shows the distributions are different"
   ]
  },
  {
   "cell_type": "markdown",
   "id": "1a5482cf",
   "metadata": {},
   "source": [
    "### Data Analytics - Visualization View"
   ]
  },
  {
   "cell_type": "markdown",
   "id": "cac398f5",
   "metadata": {},
   "source": [
    "#### Data Distribution"
   ]
  },
  {
   "cell_type": "code",
   "execution_count": 58,
   "id": "bfab733d",
   "metadata": {},
   "outputs": [
    {
     "name": "stdout",
     "output_type": "stream",
     "text": [
      "Impact Force N with A\n"
     ]
    },
    {
     "data": {
      "image/png": "[encoded data removed]",
      "text/plain": [
       "<Figure size 432x288 with 1 Axes>"
      ]
     },
     "metadata": {
      "needs_background": "light"
     },
     "output_type": "display_data"
    },
    {
     "name": "stdout",
     "output_type": "stream",
     "text": [
      "Impact Force N with B\n"
     ]
    },
    {
     "data": {
      "image/png": "[encoded data removed]",
      "text/plain": [
       "<Figure size 432x288 with 1 Axes>"
      ]
     },
     "metadata": {
      "needs_background": "light"
     },
     "output_type": "display_data"
    }
   ],
   "source": [
    "# Boxplot\n",
    "print(\"Impact Force N with A\")\n",
    "sns.boxplot(y=data[data[\"ID\"]==\"A\"][\"Impact Force N\"])\n",
    "plt.show()\n",
    "print(\"Impact Force N with B\")\n",
    "sns.boxplot(y=data[data[\"ID\"]==\"B\"][\"Impact Force N\"])\n",
    "plt.show()"
   ]
  },
  {
   "cell_type": "code",
   "execution_count": 57,
   "id": "f1483307",
   "metadata": {},
   "outputs": [
    {
     "data": {
      "image/png": "[encoded data removed]",
      "text/plain": [
       "<Figure size 720x360 with 2 Axes>"
      ]
     },
     "metadata": {
      "needs_background": "light"
     },
     "output_type": "display_data"
    }
   ],
   "source": [
    "# Frequency Distribution Plot\n",
    "sns.displot(data, x=\"Impact Force N\", col=\"ID\")\n",
    "plt.show()"
   ]
  },
  {
   "cell_type": "code",
   "execution_count": 55,
   "id": "659c5285",
   "metadata": {},
   "outputs": [
    {
     "data": {
      "image/png": "[encoded data removed]",
      "text/plain": [
       "<Figure size 432x288 with 1 Axes>"
      ]
     },
     "metadata": {
      "needs_background": "light"
     },
     "output_type": "display_data"
    }
   ],
   "source": [
    "# Distribution Plot\n",
    "plt.hist(data[data[\"ID\"]==\"A\"][\"Impact Force N\"])\n",
    "plt.hist(data[data[\"ID\"]==\"B\"][\"Impact Force N\"])\n",
    "plt.show()"
   ]
  },
  {
   "cell_type": "code",
   "execution_count": 46,
   "id": "80f83300",
   "metadata": {},
   "outputs": [
    {
     "data": {
      "image/png": "[encoded data removed]",
      "text/plain": [
       "<Figure size 402.875x360 with 1 Axes>"
      ]
     },
     "metadata": {
      "needs_background": "light"
     },
     "output_type": "display_data"
    }
   ],
   "source": [
    "# Standard Distribution Plot\n",
    "sns.displot(data, x=\"Impact Force N\", hue=\"ID\", kind=\"kde\",multiple=\"stack\")\n",
    "plt.show()"
   ]
  },
  {
   "cell_type": "markdown",
   "id": "048ba631",
   "metadata": {},
   "source": [
    "**<font color='green'>INSIGHTS</font>**"
   ]
  },
  {
   "cell_type": "markdown",
   "id": "0c7799a2",
   "metadata": {},
   "source": [
    "* Boxplot showing the distribution of A & B are different, group A has affected with anomalies\n",
    "\n",
    "* Group B data points are 0 to 8 and very close to each other. Other side, group A data points between 2 to 16 and high difference between them\n",
    "\n",
    "* Count of A data points showed equal importance and points from B showed some fluctuations mostly BTW 4 to 6\n",
    "* Standard Normal Distribution showing points from A have peak place comparatively with B points\n"
   ]
  },
  {
   "cell_type": "markdown",
   "id": "4eaae276",
   "metadata": {},
   "source": [
    "### Hypothesis Testing - INDEPDENT T-TEST"
   ]
  },
  {
   "cell_type": "markdown",
   "id": "9ef6ba26",
   "metadata": {},
   "source": [
    "* H0: There is a similarity difference between A & B \n",
    "* H1: There is no similarity between A & B"
   ]
  },
  {
   "cell_type": "code",
   "execution_count": 85,
   "id": "08c64821",
   "metadata": {},
   "outputs": [
    {
     "name": "stdout",
     "output_type": "stream",
     "text": [
      "Stats Value:  2.656802191965693\n",
      "P Value:  0.01147043733890352 \n",
      "\n",
      "There is no similarity between A & B\n"
     ]
    }
   ],
   "source": [
    "# Hypothesis Testing\n",
    "results = stats.ttest_ind(data[data[\"ID\"]==\"A\"][\"Impact Force N\"],\n",
    "                data[data[\"ID\"]==\"B\"][\"Impact Force N\"])\n",
    "\n",
    "print(\"Stats Value: \",results[0])\n",
    "print(\"P Value: \",results[1],\"\\n\")\n",
    "\n",
    "if results[1] > 0.05:\n",
    "    print('There is a similarity difference between A & B  ')\n",
    "else:\n",
    "    print('There is no similarity between A & B')"
   ]
  },
  {
   "cell_type": "markdown",
   "id": "d825b76c",
   "metadata": {},
   "source": [
    "**<font color='maroon'>INSIGHTS</font>**"
   ]
  },
  {
   "cell_type": "markdown",
   "id": "fd309aa3",
   "metadata": {},
   "source": [
    "Hypothesis proved that there is a stastically difference between A & B data points"
   ]
  },
  {
   "cell_type": "markdown",
   "id": "8b32dc9f",
   "metadata": {},
   "source": [
    "## **<font color='hunter'>CONCLUSION</font>**"
   ]
  },
  {
   "cell_type": "markdown",
   "id": "6320cd7f",
   "metadata": {},
   "source": [
    "The distribution of forces A and B are not similar. Statistically, we proved using descriptive statistics, data visualization and inferential statistics techniques"
   ]
  },
  {
   "cell_type": "markdown",
   "id": "975e4a13",
   "metadata": {},
   "source": [
    "**The END**"
   ]
  }
 ],
 "metadata": {
  "kernelspec": {
   "display_name": "Python 3.9.7 ('base')",
   "language": "python",
   "name": "python397jvsc74a57bd040d3a090f54c6569ab1632332b64b2c03c39dcf918b08424e98f38b5ae0af88f"
  },
  "language_info": {
   "codemirror_mode": {
    "name": "ipython",
    "version": 3
   },
   "file_extension": ".py",
   "mimetype": "text/x-python",
   "name": "python",
   "nbconvert_exporter": "python",
   "pygments_lexer": "ipython3",
   "version": "3.9.7"
  }
 },
 "nbformat": 4,
 "nbformat_minor": 5
}
